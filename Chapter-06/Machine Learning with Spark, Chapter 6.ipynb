{
 "cells": [
  {
   "cell_type": "markdown",
   "metadata": {},
   "source": [
    "# Extracting Features from the Bike Sharing Dataset"
   ]
  },
  {
   "cell_type": "code",
   "execution_count": 37,
   "metadata": {
    "collapsed": false
   },
   "outputs": [
    {
     "name": "stdout",
     "output_type": "stream",
     "text": [
      "Populating the interactive namespace from numpy and matplotlib\n"
     ]
    }
   ],
   "source": [
    "%pylab inline"
   ]
  },
  {
   "cell_type": "code",
   "execution_count": 38,
   "metadata": {
    "collapsed": false
   },
   "outputs": [
    {
     "name": "stdout",
     "output_type": "stream",
     "text": [
      "['1', '2011-01-01', '1', '0', '1', '0', '0', '6', '0', '1', '0.24', '0.2879', '0.81', '0', '3', '13', '16']\n",
      "17379\n"
     ]
    }
   ],
   "source": [
    "# first remove the headers by using the 'sed' command:\n",
    "# sed 1d hour.csv > hour_noheader.csv\n",
    "path = \"D:\\\\Project\\\\Spark\\\\Machine-Learning-with-Spark\\\\Data\\\\Bike-Sharing-Dataset\\\\hour_noheader.csv\"\n",
    "raw_data = sc.textFile(path)\n",
    "num_data = raw_data.count()\n",
    "records = raw_data.map(lambda x: x.split(\",\"))\n",
    "first = records.first()\n",
    "\n",
    "print (first)\n",
    "print (num_data)"
   ]
  },
  {
   "cell_type": "markdown",
   "metadata": {},
   "source": [
    "## Extract the variables we want to keep\n",
    "\n",
    "_All variables:_\n",
    "\n",
    "`instant,dteday,season,yr,mnth,hr,holiday,weekday,workingday,weathersit,temp,atemp,hum,windspeed,casual,registered,cnt`\n",
    "\n",
    "_Variables to keep:_\n",
    "\n",
    "`season,yr,mnth,hr,holiday,weekday,workingday,weathersit,temp,atemp,hum,windspeed,cnt`"
   ]
  },
  {
   "cell_type": "markdown",
   "metadata": {},
   "source": [
    "## Create feature mappings for categorical features"
   ]
  },
  {
   "cell_type": "code",
   "execution_count": 39,
   "metadata": {
    "collapsed": false
   },
   "outputs": [
    {
     "name": "stdout",
     "output_type": "stream",
     "text": [
      "Mapping of first categorical feasture column: {'4': 0, '1': 1, '3': 2, '2': 3}\n"
     ]
    }
   ],
   "source": [
    "# cache the dataset to speed up subsequent operations\n",
    "records.cache()\n",
    "\n",
    "# function to get the categorical feature mapping for a given variable column\n",
    "def get_mapping(rdd, idx):\n",
    "    return rdd.map(lambda fields: fields[idx]).distinct().zipWithIndex().collectAsMap()\n",
    "\n",
    "# we want to extract the feature mappings for columns 2 - 9\n",
    "# try it out on column 2 first\n",
    "print (\"Mapping of first categorical feasture column: %s\" % get_mapping(records, 2))"
   ]
  },
  {
   "cell_type": "code",
   "execution_count": 40,
   "metadata": {
    "collapsed": false
   },
   "outputs": [
    {
     "name": "stdout",
     "output_type": "stream",
     "text": [
      "Feature vector length for categorical features: 57\n",
      "Feature vector length for numerical features: 4\n",
      "Total feature vector length: 61\n"
     ]
    }
   ],
   "source": [
    "# extract all the catgorical mappings\n",
    "mappings = [get_mapping(records, i) for i in range(2,10)]\n",
    "cat_len = sum([*map(len, mappings)])\n",
    "num_len = len(records.first()[11:15])\n",
    "total_len = cat_len + num_len \n",
    "\n",
    "print (\"Feature vector length for categorical features: %d\" % cat_len)\n",
    "print (\"Feature vector length for numerical features: %d\" % num_len)\n",
    "print (\"Total feature vector length: %d\" % total_len)"
   ]
  },
  {
   "cell_type": "markdown",
   "metadata": {},
   "source": [
    "## Create Feature Vectors"
   ]
  },
  {
   "cell_type": "code",
   "execution_count": 41,
   "metadata": {
    "collapsed": false
   },
   "outputs": [
    {
     "name": "stdout",
     "output_type": "stream",
     "text": [
      "Raw data: ['1', '0', '1', '0', '0', '6', '0', '1', '0.24', '0.2879', '0.81', '0', '3', '13', '16']\n",
      "Label: 16.0\n",
      "Linear Model feature vector:\n",
      "[0.0,1.0,0.0,0.0,1.0,0.0,0.0,0.0,0.0,0.0,0.0,1.0,0.0,0.0,0.0,0.0,0.0,0.0,0.0,0.0,0.0,0.0,1.0,0.0,0.0,0.0,0.0,0.0,0.0,0.0,0.0,0.0,0.0,0.0,0.0,0.0,0.0,0.0,0.0,0.0,0.0,0.0,1.0,0.0,0.0,0.0,0.0,1.0,0.0,0.0,0.0,1.0,0.0,0.0,0.0,0.0,0.0,0.24,0.2879,0.81,0.0]\n",
      "Linear Model feature vector length: 61\n"
     ]
    }
   ],
   "source": [
    "# required imports\n",
    "from pyspark.mllib.regression import LabeledPoint\n",
    "import numpy as np\n",
    "\n",
    "# function to use the feature mappings to extract binary feature vectors, and concatenate with\n",
    "# the numerical feature vectors\n",
    "def extract_features(record):\n",
    "    cat_vec = np.zeros(cat_len)\n",
    "    i = 0\n",
    "    step = 0\n",
    "    for field in record[2:9]:\n",
    "        m = mappings[i]\n",
    "        idx = m[field]\n",
    "        cat_vec[idx + step] = 1\n",
    "        i = i + 1\n",
    "        step = step + len(m)\n",
    "    \n",
    "    num_vec = np.array([float(field) for field in record[10:14]])\n",
    "    return np.concatenate((cat_vec, num_vec))\n",
    "\n",
    "# function to extract the label from the last column\n",
    "def extract_label(record):\n",
    "    return float(record[-1])\n",
    "\n",
    "data = records.map(lambda r: LabeledPoint(extract_label(r), extract_features(r)))\n",
    "first_point = data.first()\n",
    "\n",
    "print (\"Raw data: \" + str(first[2:]))\n",
    "print (\"Label: \" + str(first_point.label))\n",
    "print (\"Linear Model feature vector:\\n\" + str(first_point.features))\n",
    "print (\"Linear Model feature vector length: \" + str(len(first_point.features)))"
   ]
  },
  {
   "cell_type": "code",
   "execution_count": 46,
   "metadata": {
    "collapsed": false
   },
   "outputs": [
    {
     "name": "stdout",
     "output_type": "stream",
     "text": [
      "Decision Tree feature vector: [1.0,0.0,1.0,0.0,0.0,6.0,0.0,1.0,0.24,0.2879,0.81,0.0]\n",
      "Decision Tree feature vector length: 12\n"
     ]
    }
   ],
   "source": [
    "# we need a separate set of feature vectors for the decision tree\n",
    "def extract_features_dt(record):\n",
    "    #return np.array(map(float, record[2:14]))\n",
    "    return np.array([float(field) for field in record[2:14]])\n",
    "    \n",
    "data_dt = records.map(lambda r: LabeledPoint(extract_label(r), extract_features_dt(r)))\n",
    "first_point_dt = data_dt.first()\n",
    "\n",
    "print (\"Decision Tree feature vector: \" + str(first_point_dt.features))\n",
    "print (\"Decision Tree feature vector length: \" + str(len(first_point_dt.features)))"
   ]
  },
  {
   "cell_type": "markdown",
   "metadata": {},
   "source": [
    "# Training a Regression Model"
   ]
  },
  {
   "cell_type": "code",
   "execution_count": 47,
   "metadata": {
    "collapsed": false
   },
   "outputs": [
    {
     "name": "stdout",
     "output_type": "stream",
     "text": [
      "Help on method train in module pyspark.mllib.regression:\n",
      "\n",
      "train(data, iterations=100, step=1.0, miniBatchFraction=1.0, initialWeights=None, regParam=0.0, regType=None, intercept=False, validateData=True, convergenceTol=0.001) method of builtins.type instance\n",
      "    Train a linear regression model using Stochastic Gradient\n",
      "    Descent (SGD). This solves the least squares regression\n",
      "    formulation\n",
      "    \n",
      "        f(weights) = 1/(2n) ||A weights - y||^2\n",
      "    \n",
      "    which is the mean squared error. Here the data matrix has n rows,\n",
      "    and the input RDD holds the set of rows of A, each with its\n",
      "    corresponding right hand side label y.\n",
      "    See also the documentation for the precise formulation.\n",
      "    \n",
      "    :param data:\n",
      "      The training data, an RDD of LabeledPoint.\n",
      "    :param iterations:\n",
      "      The number of iterations.\n",
      "      (default: 100)\n",
      "    :param step:\n",
      "      The step parameter used in SGD.\n",
      "      (default: 1.0)\n",
      "    :param miniBatchFraction:\n",
      "      Fraction of data to be used for each SGD iteration.\n",
      "      (default: 1.0)\n",
      "    :param initialWeights:\n",
      "      The initial weights.\n",
      "      (default: None)\n",
      "    :param regParam:\n",
      "      The regularizer parameter.\n",
      "      (default: 0.0)\n",
      "    :param regType:\n",
      "      The type of regularizer used for training our model.\n",
      "      Supported values:\n",
      "    \n",
      "        - \"l1\" for using L1 regularization\n",
      "        - \"l2\" for using L2 regularization\n",
      "        - None for no regularization (default)\n",
      "    :param intercept:\n",
      "      Boolean parameter which indicates the use or not of the\n",
      "      augmented representation for training data (i.e., whether bias\n",
      "      features are activated or not).\n",
      "      (default: False)\n",
      "    :param validateData:\n",
      "      Boolean parameter which indicates if the algorithm should\n",
      "      validate data before training.\n",
      "      (default: True)\n",
      "    :param convergenceTol:\n",
      "      A condition which decides iteration termination.\n",
      "      (default: 0.001)\n",
      "    \n",
      "    .. versionadded:: 0.9.0\n",
      "\n"
     ]
    }
   ],
   "source": [
    "from pyspark.mllib.regression import LinearRegressionWithSGD\n",
    "from pyspark.mllib.tree import DecisionTree\n",
    "\n",
    "help(LinearRegressionWithSGD.train)"
   ]
  },
  {
   "cell_type": "code",
   "execution_count": 48,
   "metadata": {
    "collapsed": false
   },
   "outputs": [
    {
     "name": "stdout",
     "output_type": "stream",
     "text": [
      "Help on method trainRegressor in module pyspark.mllib.tree:\n",
      "\n",
      "trainRegressor(data, categoricalFeaturesInfo, impurity='variance', maxDepth=5, maxBins=32, minInstancesPerNode=1, minInfoGain=0.0) method of builtins.type instance\n",
      "    Train a decision tree model for regression.\n",
      "    \n",
      "    :param data:\n",
      "      Training data: RDD of LabeledPoint. Labels are real numbers.\n",
      "    :param categoricalFeaturesInfo:\n",
      "      Map storing arity of categorical features. An entry (n -> k)\n",
      "      indicates that feature n is categorical with k categories\n",
      "      indexed from 0: {0, 1, ..., k-1}.\n",
      "    :param impurity:\n",
      "      Criterion used for information gain calculation.\n",
      "      The only supported value for regression is \"variance\".\n",
      "      (default: \"variance\")\n",
      "    :param maxDepth:\n",
      "      Maximum depth of tree (e.g. depth 0 means 1 leaf node, depth 1\n",
      "      means 1 internal node + 2 leaf nodes).\n",
      "      (default: 5)\n",
      "    :param maxBins:\n",
      "      Number of bins used for finding splits at each node.\n",
      "      (default: 32)\n",
      "    :param minInstancesPerNode:\n",
      "      Minimum number of instances required at child nodes to create\n",
      "      the parent split.\n",
      "      (default: 1)\n",
      "    :param minInfoGain:\n",
      "      Minimum info gain required to create a split.\n",
      "      (default: 0.0)\n",
      "    :return:\n",
      "      DecisionTreeModel.\n",
      "    \n",
      "    Example usage:\n",
      "    \n",
      "    >>> from pyspark.mllib.regression import LabeledPoint\n",
      "    >>> from pyspark.mllib.tree import DecisionTree\n",
      "    >>> from pyspark.mllib.linalg import SparseVector\n",
      "    >>>\n",
      "    >>> sparse_data = [\n",
      "    ...     LabeledPoint(0.0, SparseVector(2, {0: 0.0})),\n",
      "    ...     LabeledPoint(1.0, SparseVector(2, {1: 1.0})),\n",
      "    ...     LabeledPoint(0.0, SparseVector(2, {0: 0.0})),\n",
      "    ...     LabeledPoint(1.0, SparseVector(2, {1: 2.0}))\n",
      "    ... ]\n",
      "    >>>\n",
      "    >>> model = DecisionTree.trainRegressor(sc.parallelize(sparse_data), {})\n",
      "    >>> model.predict(SparseVector(2, {1: 1.0}))\n",
      "    1.0\n",
      "    >>> model.predict(SparseVector(2, {1: 0.0}))\n",
      "    0.0\n",
      "    >>> rdd = sc.parallelize([[0.0, 1.0], [0.0, 0.0]])\n",
      "    >>> model.predict(rdd).collect()\n",
      "    [1.0, 0.0]\n",
      "    \n",
      "    .. versionadded:: 1.1.0\n",
      "\n"
     ]
    }
   ],
   "source": [
    "help(DecisionTree.trainRegressor)"
   ]
  },
  {
   "cell_type": "markdown",
   "metadata": {},
   "source": [
    "## Train a Regression Model on the Bike Sharing Dataset"
   ]
  },
  {
   "cell_type": "code",
   "execution_count": 49,
   "metadata": {
    "collapsed": false
   },
   "outputs": [
    {
     "name": "stderr",
     "output_type": "stream",
     "text": [
      "C:\\Programs\\spark\\python\\pyspark\\mllib\\regression.py:281: UserWarning: Deprecated in 2.0.0. Use ml.regression.LinearRegression.\n",
      "  warnings.warn(\"Deprecated in 2.0.0. Use ml.regression.LinearRegression.\")\n"
     ]
    },
    {
     "name": "stdout",
     "output_type": "stream",
     "text": [
      "Linear Model predictions: [(16.0, 117.89250386724846), (40.0, 116.2249612319211), (32.0, 116.02369145779235), (13.0, 115.67088016754433), (1.0, 115.56315650834317)]\n"
     ]
    }
   ],
   "source": [
    "linear_model = LinearRegressionWithSGD.train(data, iterations=10, step=0.1, intercept=False)\n",
    "true_vs_predicted = data.map(lambda p: (p.label, linear_model.predict(p.features)))\n",
    "\n",
    "print (\"Linear Model predictions: \" + str(true_vs_predicted.take(5)))"
   ]
  },
  {
   "cell_type": "code",
   "execution_count": 50,
   "metadata": {
    "collapsed": false
   },
   "outputs": [
    {
     "name": "stdout",
     "output_type": "stream",
     "text": [
      "Decision Tree predictions: [(16.0, 54.913223140495866), (40.0, 54.913223140495866), (32.0, 53.171052631578945), (13.0, 14.284023668639053), (1.0, 14.284023668639053)]\n",
      "Decision Tree depth: 5\n",
      "Decision Tree number of nodes: 63\n"
     ]
    }
   ],
   "source": [
    "# we pass in an mepty mapping for categorical feature size {}\n",
    "dt_model = DecisionTree.trainRegressor(data_dt, {})\n",
    "preds = dt_model.predict(data_dt.map(lambda p: p.features))\n",
    "actual = data.map(lambda p: p.label)\n",
    "true_vs_predicted_dt = actual.zip(preds)\n",
    "\n",
    "print (\"Decision Tree predictions: \" + str(true_vs_predicted_dt.take(5)))\n",
    "print (\"Decision Tree depth: \" + str(dt_model.depth()))\n",
    "print (\"Decision Tree number of nodes: \" + str(dt_model.numNodes()))"
   ]
  },
  {
   "cell_type": "markdown",
   "metadata": {},
   "source": [
    "## Perfomance Metrics"
   ]
  },
  {
   "cell_type": "code",
   "execution_count": 51,
   "metadata": {
    "collapsed": false
   },
   "outputs": [],
   "source": [
    "# set up performance metrics functions \n",
    "\n",
    "def squared_error(actual, pred):\n",
    "    return (pred - actual)**2\n",
    "\n",
    "def abs_error(actual, pred):\n",
    "    return np.abs(pred - actual)\n",
    "\n",
    "def squared_log_error(pred, actual):\n",
    "    return (np.log(pred + 1) - np.log(actual + 1))**2"
   ]
  },
  {
   "cell_type": "markdown",
   "metadata": {},
   "source": [
    "### Linear Model"
   ]
  },
  {
   "cell_type": "code",
   "execution_count": 54,
   "metadata": {
    "collapsed": false
   },
   "outputs": [
    {
     "name": "stdout",
     "output_type": "stream",
     "text": [
      "Linear Model - Mean Squared Error: 30679.4539\n",
      "Linear Model - Mean Absolute Error: 130.6429\n",
      "Linear Model - Root Mean Squared Log Error: 1.4653\n"
     ]
    }
   ],
   "source": [
    "# compute performance metrics for linear model\n",
    "# mse = true_vs_predicted.map(lambda (t, p): squared_error(t, p)).mean()\n",
    "# mae = true_vs_predicted.map(lambda (t, p): abs_error(t, p)).mean()\n",
    "# rmsle = np.sqrt(true_vs_predicted.map(lambda (t, p): squared_log_error(t, p)).mean())\n",
    "\n",
    "mse = true_vs_predicted.map(lambda p : squared_error(p[0], p[1])).mean()\n",
    "mae = true_vs_predicted.map(lambda p : abs_error(p[0], p[1])).mean()\n",
    "rmsle = np.sqrt(true_vs_predicted.map(lambda p : squared_log_error(p[0], p[1])).mean())\n",
    "\n",
    "\n",
    "print (\"Linear Model - Mean Squared Error: %2.4f\" % mse)\n",
    "print (\"Linear Model - Mean Absolute Error: %2.4f\" % mae)\n",
    "print (\"Linear Model - Root Mean Squared Log Error: %2.4f\" % rmsle)"
   ]
  },
  {
   "cell_type": "markdown",
   "metadata": {},
   "source": [
    "### Decision Tree Model"
   ]
  },
  {
   "cell_type": "code",
   "execution_count": 56,
   "metadata": {
    "collapsed": false
   },
   "outputs": [
    {
     "name": "stdout",
     "output_type": "stream",
     "text": [
      "Decision Tree - Mean Squared Error: 11560.7978\n",
      "Decision Tree - Mean Absolute Error: 71.0969\n",
      "Decision Tree - Root Mean Squared Log Error: 0.6259\n"
     ]
    }
   ],
   "source": [
    "# compute performance metrics for decision tree model\n",
    "# mse_dt = true_vs_predicted_dt.map(lambda (t, p): squared_error(t, p)).mean()\n",
    "# ae_dt = true_vs_predicted_dt.map(lambda (t, p): abs_error(t, p)).mean()\n",
    "# rmsle_dt = np.sqrt(true_vs_predicted_dt.map(lambda (t, p): squared_log_error(t, p)).mean())\n",
    "\n",
    "mse_dt = true_vs_predicted_dt.map(lambda p: squared_error(p[0], p[1])).mean()\n",
    "mae_dt = true_vs_predicted_dt.map(lambda p: abs_error(p[0], p[1])).mean()\n",
    "rmsle_dt = np.sqrt(true_vs_predicted_dt.map(lambda p: squared_log_error(p[0], p[1])).mean())\n",
    "\n",
    "print (\"Decision Tree - Mean Squared Error: %2.4f\" % mse_dt)\n",
    "print (\"Decision Tree - Mean Absolute Error: %2.4f\" % mae_dt)\n",
    "print (\"Decision Tree - Root Mean Squared Log Error: %2.4f\" % rmsle_dt)"
   ]
  },
  {
   "cell_type": "markdown",
   "metadata": {},
   "source": [
    "#### Using the categorical feature mapping for Decision Tree"
   ]
  },
  {
   "cell_type": "code",
   "execution_count": 59,
   "metadata": {
    "collapsed": false
   },
   "outputs": [
    {
     "name": "stdout",
     "output_type": "stream",
     "text": [
      "Categorical feature size mapping {0: 5, 1: 3, 2: 13, 3: 25, 4: 3, 5: 8, 6: 3, 7: 5}\n",
      "Decision Tree - Mean Squared Error: 8406.6133\n",
      "Decision Tree - Mean Absolute Error: 60.7996\n",
      "Decision Tree - Root Mean Squared Log Error: 0.6236\n"
     ]
    }
   ],
   "source": [
    "# we create the categorical feature mapping for decision trees\n",
    "cat_features = dict([(i - 2, len(get_mapping(records, i)) + 1) for i in range(2,10)])\n",
    "print (\"Categorical feature size mapping %s\" % cat_features)\n",
    "\n",
    "# train the model again\n",
    "dt_model_2 = DecisionTree.trainRegressor(data_dt, categoricalFeaturesInfo=cat_features)\n",
    "preds_2 = dt_model_2.predict(data_dt.map(lambda p: p.features))\n",
    "actual_2 = data.map(lambda p: p.label)\n",
    "true_vs_predicted_dt_2 = actual_2.zip(preds_2)\n",
    "\n",
    "# compute performance metrics for decision tree model\n",
    "mse_dt_2 = true_vs_predicted_dt_2.map(lambda p: squared_error(p[0], p[1])).mean()\n",
    "mae_dt_2 = true_vs_predicted_dt_2.map(lambda p: abs_error(p[0], p[1])).mean()\n",
    "rmsle_dt_2 = np.sqrt(true_vs_predicted_dt_2.map(lambda p: squared_log_error(p[0], p[1])).mean())\n",
    "\n",
    "print (\"Decision Tree - Mean Squared Error: %2.4f\" % mse_dt_2)\n",
    "print (\"Decision Tree - Mean Absolute Error: %2.4f\" % mae_dt_2)\n",
    "print (\"Decision Tree - Root Mean Squared Log Error: %2.4f\" % rmsle_dt_2)"
   ]
  },
  {
   "cell_type": "markdown",
   "metadata": {},
   "source": [
    "# Transforming the Target Variable\n",
    "## Distributon of Raw Target"
   ]
  },
  {
   "cell_type": "code",
   "execution_count": 60,
   "metadata": {
    "collapsed": false
   },
   "outputs": [
    {
     "data": {
      "image/png": "[encoded data removed]",
      "text/plain": [
       "<matplotlib.figure.Figure at 0x1b2cd6704e0>"
      ]
     },
     "metadata": {},
     "output_type": "display_data"
    }
   ],
   "source": [
    "targets = records.map(lambda r: float(r[-1])).collect()\n",
    "hist(targets, bins=40, color='lightblue', normed=True)\n",
    "fig = matplotlib.pyplot.gcf()\n",
    "fig.set_size_inches(16, 10)"
   ]
  },
  {
   "cell_type": "markdown",
   "metadata": {},
   "source": [
    "## Distribution of Log Transformed Target"
   ]
  },
  {
   "cell_type": "code",
   "execution_count": 61,
   "metadata": {
    "collapsed": false
   },
   "outputs": [
    {
     "data": {
      "image/png": "[encoded data removed]",
      "text/plain": [
       "<matplotlib.figure.Figure at 0x1b2ce08f5c0>"
      ]
     },
     "metadata": {},
     "output_type": "display_data"
    }
   ],
   "source": [
    "log_targets = records.map(lambda r: np.log(float(r[-1]))).collect()\n",
    "hist(log_targets, bins=40, color='lightblue', normed=True)\n",
    "fig = matplotlib.pyplot.gcf()\n",
    "fig.set_size_inches(16, 10)"
   ]
  },
  {
   "cell_type": "markdown",
   "metadata": {},
   "source": [
    "## Distribution of Square-root Transformed target"
   ]
  },
  {
   "cell_type": "code",
   "execution_count": 62,
   "metadata": {
    "collapsed": false
   },
   "outputs": [
    {
     "data": {
      "image/png": "[encoded data removed]",
      "text/plain": [
       "<matplotlib.figure.Figure at 0x1b2cdaa86a0>"
      ]
     },
     "metadata": {},
     "output_type": "display_data"
    }
   ],
   "source": [
    "sqrt_targets = records.map(lambda r: np.sqrt(float(r[-1]))).collect()\n",
    "hist(sqrt_targets, bins=40, color='lightblue', normed=True)\n",
    "fig = matplotlib.pyplot.gcf()\n",
    "fig.set_size_inches(16, 10)"
   ]
  },
  {
   "cell_type": "markdown",
   "metadata": {},
   "source": [
    "## Impact of Training on Log Transformed Targets"
   ]
  },
  {
   "cell_type": "code",
   "execution_count": 63,
   "metadata": {
    "collapsed": false
   },
   "outputs": [
    {
     "name": "stderr",
     "output_type": "stream",
     "text": [
      "C:\\Programs\\spark\\python\\pyspark\\mllib\\regression.py:281: UserWarning: Deprecated in 2.0.0. Use ml.regression.LinearRegression.\n",
      "  warnings.warn(\"Deprecated in 2.0.0. Use ml.regression.LinearRegression.\")\n"
     ]
    },
    {
     "name": "stdout",
     "output_type": "stream",
     "text": [
      "Mean Squared Error: 50685.5559\n",
      "Mean Absolute Error: 155.2955\n",
      "Root Mean Squared Log Error: 1.5411\n",
      "Non log-transformed predictions:\n",
      "[(16.0, 117.89250386724846), (40.0, 116.2249612319211), (32.0, 116.02369145779235)]\n",
      "Log-transformed predictions:\n",
      "[(15.999999999999998, 28.080291845456223), (40.0, 26.959480191001784), (32.0, 26.654725629458021)]\n"
     ]
    }
   ],
   "source": [
    "# train a linear model on log-transformed targets\n",
    "data_log = data.map(lambda lp: LabeledPoint(np.log(lp.label), lp.features))\n",
    "model_log = LinearRegressionWithSGD.train(data_log, iterations=10, step=0.1)\n",
    "\n",
    "true_vs_predicted_log = data_log.map(lambda p: (np.exp(p.label), np.exp(model_log.predict(p.features))))\n",
    "\n",
    "mse_log = true_vs_predicted_log.map(lambda p: squared_error(p[0], p[1])).mean()\n",
    "mae_log = true_vs_predicted_log.map(lambda p: abs_error(p[0], p[1])).mean()\n",
    "rmsle_log = np.sqrt(true_vs_predicted_log.map(lambda p: squared_log_error(p[0], p[1])).mean())\n",
    "\n",
    "print (\"Mean Squared Error: %2.4f\" % mse_log)\n",
    "print (\"Mean Absolute Error: %2.4f\" % mae_log)\n",
    "print (\"Root Mean Squared Log Error: %2.4f\" % rmsle_log)\n",
    "print (\"Non log-transformed predictions:\\n\" + str(true_vs_predicted.take(3)))\n",
    "print (\"Log-transformed predictions:\\n\" + str(true_vs_predicted_log.take(3)))"
   ]
  },
  {
   "cell_type": "code",
   "execution_count": 64,
   "metadata": {
    "collapsed": false
   },
   "outputs": [
    {
     "name": "stdout",
     "output_type": "stream",
     "text": [
      "Mean Squared Error: 14781.5760\n",
      "Mean Absolute Error: 76.4131\n",
      "Root Mean Squared Log Error: 0.6406\n",
      "Non log-transformed predictions:\n",
      "[(16.0, 54.913223140495866), (40.0, 54.913223140495866), (32.0, 53.171052631578945)]\n",
      "Log-transformed predictions:\n",
      "[(15.999999999999998, 37.530779787154508), (40.0, 37.530779787154508), (32.0, 7.2797070993907287)]\n"
     ]
    }
   ],
   "source": [
    "# train a decision tree model on log-transformed targets\n",
    "data_dt_log = data_dt.map(lambda lp: LabeledPoint(np.log(lp.label), lp.features))\n",
    "dt_model_log = DecisionTree.trainRegressor(data_dt_log, {})\n",
    "\n",
    "preds_log = dt_model_log.predict(data_dt_log.map(lambda p: p.features))\n",
    "actual_log = data_dt_log.map(lambda p: p.label)\n",
    "true_vs_predicted_dt_log = actual_log.zip(preds_log).map(lambda p: (np.exp(p[0]), np.exp(p[1])))\n",
    "\n",
    "mse_log_dt = true_vs_predicted_dt_log.map(lambda p: squared_error(p[0], p[1])).mean()\n",
    "mae_log_dt = true_vs_predicted_dt_log.map(lambda p: abs_error(p[0], p[1])).mean()\n",
    "rmsle_log_dt = np.sqrt(true_vs_predicted_dt_log.map(lambda p: squared_log_error(p[0], p[1])).mean())\n",
    "\n",
    "print (\"Mean Squared Error: %2.4f\" % mse_log_dt)\n",
    "print (\"Mean Absolute Error: %2.4f\" % mae_log_dt)\n",
    "print (\"Root Mean Squared Log Error: %2.4f\" % rmsle_log_dt)\n",
    "print (\"Non log-transformed predictions:\\n\" + str(true_vs_predicted_dt.take(3)))\n",
    "print (\"Log-transformed predictions:\\n\" + str(true_vs_predicted_dt_log.take(3)))"
   ]
  },
  {
   "cell_type": "markdown",
   "metadata": {},
   "source": [
    "# Cross-validation\n",
    "## Creating Training and Test Sets"
   ]
  },
  {
   "cell_type": "code",
   "execution_count": 66,
   "metadata": {
    "collapsed": false
   },
   "outputs": [
    {
     "name": "stdout",
     "output_type": "stream",
     "text": [
      "Training data size: 13869\n",
      "Test data size: 3510\n",
      "Total data size: 17379 \n",
      "Train + Test size : 17379\n"
     ]
    }
   ],
   "source": [
    "# create training and testing sets for linear model\n",
    "data_with_idx = data.zipWithIndex().map(lambda p: (p[1], p[0]))\n",
    "test = data_with_idx.sample(False, 0.2, 42)\n",
    "train = data_with_idx.subtractByKey(test)\n",
    "\n",
    "train_data = train.map(lambda p: p[1])\n",
    "test_data = test.map(lambda p: p[1])\n",
    "\n",
    "train_size = train_data.count()\n",
    "test_size = test_data.count()\n",
    "\n",
    "print (\"Training data size: %d\" % train_size)\n",
    "print (\"Test data size: %d\" % test_size)\n",
    "print (\"Total data size: %d \" % num_data)\n",
    "print (\"Train + Test size : %d\" % (train_size + test_size))"
   ]
  },
  {
   "cell_type": "code",
   "execution_count": 69,
   "metadata": {
    "collapsed": false
   },
   "outputs": [],
   "source": [
    "# create training and testing sets for decision tree\n",
    "data_with_idx_dt = data_dt.zipWithIndex().map(lambda p: (p[1], p[0]))\n",
    "test_dt = data_with_idx_dt.sample(False, 0.2, 42)\n",
    "train_dt = data_with_idx_dt.subtractByKey(test_dt)\n",
    "\n",
    "train_data_dt = train_dt.map(lambda p: p[1])\n",
    "test_data_dt = test_dt.map(lambda p : p[1])"
   ]
  },
  {
   "cell_type": "markdown",
   "metadata": {},
   "source": [
    "## Evaluating the Impact of Different Parameter Settings for Linear Model"
   ]
  },
  {
   "cell_type": "code",
   "execution_count": 70,
   "metadata": {
    "collapsed": false
   },
   "outputs": [],
   "source": [
    "# create a function to evaluate linear model\n",
    "def evaluate(train, test, iterations, step, regParam, regType, intercept):\n",
    "    model = LinearRegressionWithSGD.train(train, iterations, step, regParam=regParam, regType=regType, intercept=intercept)\n",
    "    tp = test.map(lambda p: (p.label, model.predict(p.features)))\n",
    "    rmsle = np.sqrt(tp.map(lambda p: squared_log_error(p[0], p[1])).mean())\n",
    "    return rmsle"
   ]
  },
  {
   "cell_type": "markdown",
   "metadata": {},
   "source": [
    "### Iterations"
   ]
  },
  {
   "cell_type": "code",
   "execution_count": 71,
   "metadata": {
    "collapsed": false
   },
   "outputs": [
    {
     "name": "stderr",
     "output_type": "stream",
     "text": [
      "C:\\Programs\\spark\\python\\pyspark\\mllib\\regression.py:281: UserWarning: Deprecated in 2.0.0. Use ml.regression.LinearRegression.\n",
      "  warnings.warn(\"Deprecated in 2.0.0. Use ml.regression.LinearRegression.\")\n"
     ]
    },
    {
     "name": "stdout",
     "output_type": "stream",
     "text": [
      "[1, 5, 10, 20, 50, 100]\n",
      "[2.8914055150732545, 2.0430992987776735, 1.7742287660542899, 1.5738717456816069, 1.4193495082740306, 1.3796611089716069]\n"
     ]
    },
    {
     "data": {
      "image/png": "[encoded data removed]",
      "text/plain": [
       "<matplotlib.figure.Figure at 0x1b2cdb45320>"
      ]
     },
     "metadata": {},
     "output_type": "display_data"
    }
   ],
   "source": [
    "params = [1, 5, 10, 20, 50, 100]\n",
    "metrics = [evaluate(train_data, test_data, param, 0.01, 0.0, 'l2', False) for param in params]\n",
    "\n",
    "print (params)\n",
    "print (metrics)\n",
    "\n",
    "plot(params, metrics)\n",
    "fig = matplotlib.pyplot.gcf()\n",
    "pyplot.xscale('log')"
   ]
  },
  {
   "cell_type": "markdown",
   "metadata": {},
   "source": [
    "### Step Size"
   ]
  },
  {
   "cell_type": "code",
   "execution_count": 72,
   "metadata": {
    "collapsed": false
   },
   "outputs": [
    {
     "name": "stderr",
     "output_type": "stream",
     "text": [
      "C:\\Programs\\spark\\python\\pyspark\\mllib\\regression.py:281: UserWarning: Deprecated in 2.0.0. Use ml.regression.LinearRegression.\n",
      "  warnings.warn(\"Deprecated in 2.0.0. Use ml.regression.LinearRegression.\")\n",
      "C:\\Programs\\spark\\python\\pyspark\\statcounter.py:80: RuntimeWarning: invalid value encountered in maximum\n",
      "  self.maxValue = maximum(self.maxValue, other.maxValue)\n",
      "C:\\Programs\\spark\\python\\pyspark\\statcounter.py:81: RuntimeWarning: invalid value encountered in minimum\n",
      "  self.minValue = minimum(self.minValue, other.minValue)\n"
     ]
    },
    {
     "name": "stdout",
     "output_type": "stream",
     "text": [
      "[0.01, 0.025, 0.05, 0.1, 1.0]\n",
      "[1.7742287660542899, 1.418982453615184, 1.3888231497870642, 1.4673697834450803, nan]\n"
     ]
    },
    {
     "data": {
      "image/png": "[encoded data removed]",
      "text/plain": [
       "<matplotlib.figure.Figure at 0x1b2cf55c9e8>"
      ]
     },
     "metadata": {},
     "output_type": "display_data"
    }
   ],
   "source": [
    "params = [0.01, 0.025, 0.05, 0.1, 1.0]\n",
    "metrics = [evaluate(train_data, test_data, 10, param, 0.0, 'l2', False) for param in params]\n",
    "\n",
    "print (params)\n",
    "print (metrics)\n",
    "\n",
    "plot(params, metrics)\n",
    "fig = matplotlib.pyplot.gcf()\n",
    "pyplot.xscale('log')"
   ]
  },
  {
   "cell_type": "markdown",
   "metadata": {},
   "source": [
    "### L2 Regularization"
   ]
  },
  {
   "cell_type": "code",
   "execution_count": 73,
   "metadata": {
    "collapsed": false
   },
   "outputs": [
    {
     "name": "stderr",
     "output_type": "stream",
     "text": [
      "C:\\Programs\\spark\\python\\pyspark\\mllib\\regression.py:281: UserWarning: Deprecated in 2.0.0. Use ml.regression.LinearRegression.\n",
      "  warnings.warn(\"Deprecated in 2.0.0. Use ml.regression.LinearRegression.\")\n"
     ]
    },
    {
     "name": "stdout",
     "output_type": "stream",
     "text": [
      "[0.0, 0.01, 0.1, 1.0, 5.0, 10.0, 20.0]\n",
      "[1.4673697834450803, 1.4667256815761693, 1.4610397860552227, 1.4148656991945883, 1.3894093337429676, 1.5268171913629869, 1.8274812568879655]\n"
     ]
    },
    {
     "data": {
      "image/png": "[encoded data removed]",
      "text/plain": [
       "<matplotlib.figure.Figure at 0x1b2cda11ba8>"
      ]
     },
     "metadata": {},
     "output_type": "display_data"
    }
   ],
   "source": [
    "params = [0.0, 0.01, 0.1, 1.0, 5.0, 10.0, 20.0]\n",
    "metrics = [evaluate(train_data, test_data, 10, 0.1, param, 'l2', False) for param in params]\n",
    "\n",
    "print (params)\n",
    "print (metrics)\n",
    "\n",
    "plot(params, metrics)\n",
    "fig = matplotlib.pyplot.gcf()\n",
    "pyplot.xscale('log')"
   ]
  },
  {
   "cell_type": "markdown",
   "metadata": {},
   "source": [
    "### L1 Regularization"
   ]
  },
  {
   "cell_type": "code",
   "execution_count": 74,
   "metadata": {
    "collapsed": false
   },
   "outputs": [
    {
     "name": "stderr",
     "output_type": "stream",
     "text": [
      "C:\\Programs\\spark\\python\\pyspark\\mllib\\regression.py:281: UserWarning: Deprecated in 2.0.0. Use ml.regression.LinearRegression.\n",
      "  warnings.warn(\"Deprecated in 2.0.0. Use ml.regression.LinearRegression.\")\n"
     ]
    },
    {
     "name": "stdout",
     "output_type": "stream",
     "text": [
      "[0.0, 0.01, 0.1, 1.0, 10.0, 100.0, 1000.0]\n",
      "[1.4673697834450803, 1.4673349810789962, 1.4670244797589551, 1.4641307492983522, 1.4373867040546628, 1.7500923424654888, 4.7732667371201707]\n"
     ]
    },
    {
     "data": {
      "image/png": "[encoded data removed]",
      "text/plain": [
       "<matplotlib.figure.Figure at 0x1b2cdba9898>"
      ]
     },
     "metadata": {},
     "output_type": "display_data"
    }
   ],
   "source": [
    "params = [0.0, 0.01, 0.1, 1.0, 10.0, 100.0, 1000.0]\n",
    "metrics = [evaluate(train_data, test_data, 10, 0.1, param, 'l1', False) for param in params]\n",
    "\n",
    "print (params)\n",
    "print (metrics)\n",
    "\n",
    "plot(params, metrics)\n",
    "fig = matplotlib.pyplot.gcf()\n",
    "pyplot.xscale('log')"
   ]
  },
  {
   "cell_type": "code",
   "execution_count": 75,
   "metadata": {
    "collapsed": false
   },
   "outputs": [
    {
     "name": "stderr",
     "output_type": "stream",
     "text": [
      "C:\\Programs\\spark\\python\\pyspark\\mllib\\regression.py:281: UserWarning: Deprecated in 2.0.0. Use ml.regression.LinearRegression.\n",
      "  warnings.warn(\"Deprecated in 2.0.0. Use ml.regression.LinearRegression.\")\n"
     ]
    },
    {
     "name": "stdout",
     "output_type": "stream",
     "text": [
      "L1 (1.0) number of zero weights: 5\n",
      "L1 (10.0) number of zeros weights: 33\n",
      "L1 (100.0) number of zeros weights: 58\n"
     ]
    }
   ],
   "source": [
    "# Investigate sparsity of L1-regularized solution\n",
    "model_l1 = LinearRegressionWithSGD.train(train_data, 10, 0.1, regParam=1.0, regType='l1', intercept=False)\n",
    "model_l1_10 = LinearRegressionWithSGD.train(train_data, 10, 0.1, regParam=10.0, regType='l1', intercept=False)\n",
    "model_l1_100 = LinearRegressionWithSGD.train(train_data, 10, 0.1, regParam=100.0, regType='l1', intercept=False)\n",
    "\n",
    "print (\"L1 (1.0) number of zero weights: \" + str(sum(model_l1.weights.array == 0)))\n",
    "print (\"L1 (10.0) number of zeros weights: \" + str(sum(model_l1_10.weights.array == 0)))\n",
    "print (\"L1 (100.0) number of zeros weights: \" + str(sum(model_l1_100.weights.array == 0)))"
   ]
  },
  {
   "cell_type": "markdown",
   "metadata": {},
   "source": [
    "### Intercept"
   ]
  },
  {
   "cell_type": "code",
   "execution_count": 76,
   "metadata": {
    "collapsed": false
   },
   "outputs": [
    {
     "name": "stderr",
     "output_type": "stream",
     "text": [
      "C:\\Programs\\spark\\python\\pyspark\\mllib\\regression.py:281: UserWarning: Deprecated in 2.0.0. Use ml.regression.LinearRegression.\n",
      "  warnings.warn(\"Deprecated in 2.0.0. Use ml.regression.LinearRegression.\")\n"
     ]
    },
    {
     "name": "stdout",
     "output_type": "stream",
     "text": [
      "[False, True]\n",
      "[1.4148656991945883, 1.4456134673412357]\n"
     ]
    },
    {
     "data": {
      "image/png": "[encoded data removed]",
      "text/plain": [
       "<matplotlib.figure.Figure at 0x1b2ce007198>"
      ]
     },
     "metadata": {},
     "output_type": "display_data"
    }
   ],
   "source": [
    "params = [False, True]\n",
    "metrics = [evaluate(train_data, test_data, 10, 0.1, 1.0, 'l2', param) for param in params]\n",
    "\n",
    "print (params)\n",
    "print (metrics)\n",
    "\n",
    "bar(params, metrics, color='lightblue')\n",
    "fig = matplotlib.pyplot.gcf()"
   ]
  },
  {
   "cell_type": "markdown",
   "metadata": {},
   "source": [
    "## Evaluating the Impact of Different Parameter Settings for Decision Tree Model"
   ]
  },
  {
   "cell_type": "code",
   "execution_count": 78,
   "metadata": {
    "collapsed": false
   },
   "outputs": [],
   "source": [
    "# create a function to evaluate decision tree model\n",
    "def evaluate_dt(train, test, maxDepth, maxBins):\n",
    "    model = DecisionTree.trainRegressor(train, {}, impurity='variance', maxDepth=maxDepth, maxBins=maxBins)\n",
    "    preds = model.predict(test.map(lambda p: p.features))\n",
    "    actual = test.map(lambda p: p.label)\n",
    "    tp = actual.zip(preds)\n",
    "    rmsle = np.sqrt(tp.map(lambda p: squared_log_error(p[0], p[1])).mean())\n",
    "    return rmsle"
   ]
  },
  {
   "cell_type": "markdown",
   "metadata": {},
   "source": [
    "### Tree Depth"
   ]
  },
  {
   "cell_type": "code",
   "execution_count": 79,
   "metadata": {
    "collapsed": false,
    "scrolled": true
   },
   "outputs": [
    {
     "name": "stdout",
     "output_type": "stream",
     "text": [
      "[1, 2, 3, 4, 5, 10, 20]\n",
      "[1.0100243237245241, 0.90905272211847488, 0.81109711802469608, 0.7322966176210407, 0.63990976968359503, 0.4201276945230874, 0.45486651553386265]\n"
     ]
    },
    {
     "data": {
      "image/png": "[encoded data removed]",
      "text/plain": [
       "<matplotlib.figure.Figure at 0x1b2cdb58198>"
      ]
     },
     "metadata": {},
     "output_type": "display_data"
    }
   ],
   "source": [
    "params = [1, 2, 3, 4, 5, 10, 20]\n",
    "metrics = [evaluate_dt(train_data_dt, test_data_dt, param, 32) for param in params]\n",
    "\n",
    "print (params)\n",
    "print (metrics)\n",
    "\n",
    "plot(params, metrics)\n",
    "fig = matplotlib.pyplot.gcf()"
   ]
  },
  {
   "cell_type": "markdown",
   "metadata": {},
   "source": [
    "### Max Bins"
   ]
  },
  {
   "cell_type": "code",
   "execution_count": 80,
   "metadata": {
    "collapsed": false
   },
   "outputs": [
    {
     "name": "stdout",
     "output_type": "stream",
     "text": [
      "[2, 4, 8, 16, 32, 64, 100]\n",
      "[1.2701534921385094, 0.80129728469147588, 0.73542372843123194, 0.6251623955270379, 0.63990976968359503, 0.63990976968359503, 0.63990976968359503]\n"
     ]
    },
    {
     "data": {
      "image/png": "[encoded data removed]",
      "text/plain": [
       "<matplotlib.figure.Figure at 0x1b2cdb00668>"
      ]
     },
     "metadata": {},
     "output_type": "display_data"
    }
   ],
   "source": [
    "params = [2, 4, 8, 16, 32, 64, 100]\n",
    "metrics = [evaluate_dt(train_data_dt, test_data_dt, 5, param) for param in params]\n",
    "\n",
    "print (params)\n",
    "print (metrics)\n",
    "\n",
    "plot(params, metrics)\n",
    "fig = matplotlib.pyplot.gcf()"
   ]
  }
 ],
 "metadata": {
  "kernelspec": {
   "display_name": "PySpark",
   "language": "python",
   "name": "pyspark"
  },
  "language_info": {
   "codemirror_mode": {
    "name": "ipython",
    "version": 3
   },
   "file_extension": ".py",
   "mimetype": "text/x-python",
   "name": "python",
   "nbconvert_exporter": "python",
   "pygments_lexer": "ipython3",
   "version": "3.5.2"
  }
 },
 "nbformat": 4,
 "nbformat_minor": 0
}
